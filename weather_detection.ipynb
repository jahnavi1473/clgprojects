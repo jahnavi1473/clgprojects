{
  "nbformat": 4,
  "nbformat_minor": 0,
  "metadata": {
    "colab": {
      "provenance": [],
      "authorship_tag": "ABX9TyNDYIt9cXzRkBL92OXFsrsB",
      "include_colab_link": true
    },
    "kernelspec": {
      "name": "python3",
      "display_name": "Python 3"
    },
    "language_info": {
      "name": "python"
    }
  },
  "cells": [
    {
      "cell_type": "markdown",
      "metadata": {
        "id": "view-in-github",
        "colab_type": "text"
      },
      "source": [
        "<a href=\"https://colab.research.google.com/github/jahnavi1473/pythonprojects/blob/main/weather_detection.ipynb\" target=\"_parent\"><img src=\"https://colab.research.google.com/assets/colab-badge.svg\" alt=\"Open In Colab\"/></a>"
      ]
    },
    {
      "cell_type": "code",
      "execution_count": null,
      "metadata": {
        "colab": {
          "base_uri": "https://localhost:8080/"
        },
        "id": "RwjCUmntyQWG",
        "outputId": "c391d269-4140-46e0-9067-e4527308fb96"
      },
      "outputs": [
        {
          "output_type": "stream",
          "name": "stdout",
          "text": [
            "Requirement already satisfied: requests in /usr/local/lib/python3.10/dist-packages (2.31.0)\n",
            "Requirement already satisfied: charset-normalizer<4,>=2 in /usr/local/lib/python3.10/dist-packages (from requests) (3.3.2)\n",
            "Requirement already satisfied: idna<4,>=2.5 in /usr/local/lib/python3.10/dist-packages (from requests) (3.6)\n",
            "Requirement already satisfied: urllib3<3,>=1.21.1 in /usr/local/lib/python3.10/dist-packages (from requests) (2.0.7)\n",
            "Requirement already satisfied: certifi>=2017.4.17 in /usr/local/lib/python3.10/dist-packages (from requests) (2024.2.2)\n"
          ]
        }
      ],
      "source": [
        "pip install requests"
      ]
    },
    {
      "cell_type": "code",
      "source": [
        "import requests\n",
        "\n",
        "def read_api_key(filename):\n",
        "  try:\n",
        "    with open('weatherapi.txt', 'r') as f:\n",
        "      return f.read().strip()\n",
        "  except FileNotFoundError:\n",
        "    print(\"Error: API key file not found.\")\n",
        "    return None\n",
        "  except Exception as e:\n",
        "    print(f\"Error reading API key: {e}\")\n",
        "    return None\n",
        "\n",
        "def get_weather(api_key, location):\n",
        "  url = f\"https://api.openweathermap.org/data/2.5/weather?q={location}&appid={api_key}&units=metric\"  # Metric units\n",
        "\n",
        "  response = requests.get(url)\n",
        "\n",
        "  if response.status_code == 200:\n",
        "    return response.json()\n",
        "  else:\n",
        "    print(f\"Error: {response.status_code}\")\n",
        "    return None\n",
        "\n",
        "def main():\n",
        "  api_key_file = \"weatherapi.txt\"\n",
        "  api_key = read_api_key(api_key_file)\n",
        "\n",
        "  if not api_key:\n",
        "    exit(1)\n",
        "\n",
        "  location = input(\"Enter city or ZIP code: \")\n",
        "\n",
        "  weather_data = get_weather(api_key, location)\n",
        "\n",
        "  if weather_data:\n",
        "\n",
        "    temperature = weather_data[\"main\"][\"temp\"]\n",
        "    feels_like = weather_data[\"main\"][\"feels_like\"]\n",
        "    weather_description = weather_data[\"weather\"][0][\"description\"]\n",
        "    print(f\"Location: {location}\")\n",
        "    print(f\"Temperature: {temperature:.2f} degrees Celsius (Feels like: {feels_like:.2f} degrees Celsius)\")\n",
        "    print(f\"Weather: {weather_description}\")\n",
        "  else:\n",
        "    print(\"Error retrieving weather data.\")\n",
        "\n",
        "if __name__ == \"__main__\":\n",
        "  main()\n"
      ],
      "metadata": {
        "colab": {
          "base_uri": "https://localhost:8080/"
        },
        "id": "0BrEVecdyRXp",
        "outputId": "50822a9d-e476-47bf-b923-d236f5ce99d6"
      },
      "execution_count": 7,
      "outputs": [
        {
          "output_type": "stream",
          "name": "stdout",
          "text": [
            "Enter city or ZIP code: hyderabad\n",
            "Location: hyderabad\n",
            "Temperature: 40.23 degrees Celsius (Feels like: 38.54 degrees Celsius)\n",
            "Weather: scattered clouds\n"
          ]
        }
      ]
    }
  ]
}