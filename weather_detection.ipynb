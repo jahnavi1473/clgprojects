{
  "nbformat": 4,
  "nbformat_minor": 0,
  "metadata": {
    "colab": {
      "provenance": [],
      "authorship_tag": "ABX9TyPL9OMJJEyxMJlMIDJ6YhmQ",
      "include_colab_link": true
    },
    "kernelspec": {
      "name": "python3",
      "display_name": "Python 3"
    },
    "language_info": {
      "name": "python"
    }
  },
  "cells": [
    {
      "cell_type": "markdown",
      "metadata": {
        "id": "view-in-github",
        "colab_type": "text"
      },
      "source": [
        "<a href=\"https://colab.research.google.com/github/jahnavi1473/pythonprojects/blob/main/weather_detection.ipynb\" target=\"_parent\"><img src=\"https://colab.research.google.com/assets/colab-badge.svg\" alt=\"Open In Colab\"/></a>"
      ]
    },
    {
      "cell_type": "code",
      "execution_count": null,
      "metadata": {
        "colab": {
          "base_uri": "https://localhost:8080/"
        },
        "id": "RwjCUmntyQWG",
        "outputId": "c391d269-4140-46e0-9067-e4527308fb96"
      },
      "outputs": [
        {
          "output_type": "stream",
          "name": "stdout",
          "text": [
            "Requirement already satisfied: requests in /usr/local/lib/python3.10/dist-packages (2.31.0)\n",
            "Requirement already satisfied: charset-normalizer<4,>=2 in /usr/local/lib/python3.10/dist-packages (from requests) (3.3.2)\n",
            "Requirement already satisfied: idna<4,>=2.5 in /usr/local/lib/python3.10/dist-packages (from requests) (3.6)\n",
            "Requirement already satisfied: urllib3<3,>=1.21.1 in /usr/local/lib/python3.10/dist-packages (from requests) (2.0.7)\n",
            "Requirement already satisfied: certifi>=2017.4.17 in /usr/local/lib/python3.10/dist-packages (from requests) (2024.2.2)\n"
          ]
        }
      ],
      "source": [
        "pip install requests"
      ]
    },
    {
      "cell_type": "code",
      "source": [
        "import requests\n",
        "\n",
        "def get_weather(api_key, location):\n",
        "    \"\"\"Fetches weather data for a given location using the OpenWeatherMap API.\n",
        "\n",
        "    Args:\n",
        "        api_key: Your API key from OpenWeatherMap.\n",
        "        location: The city or ZIP code to get weather data for.\n",
        "\n",
        "    Returns:\n",
        "        A dictionary containing weather data or None if an error occurs.\n",
        "    \"\"\"\n",
        "\n",
        "    # Replace with the actual API endpoint URL\n",
        "    url = f\"https://api.openweathermap.org/data/2.5/weather?q={location}&appid={api_key}&units=metric\"  # Metric units\n",
        "\n",
        "    response = requests.get(url)\n",
        "\n",
        "    if response.status_code == 200:\n",
        "        return response.json()  # Parse JSON response\n",
        "    else:\n",
        "        print(f\"Error: {response.status_code}\")\n",
        "        return None\n",
        "\n",
        "def main():\n",
        "    api_key = \"e3e9aab3eae16b2cb63b24ae37dc6da0\"  # Replace with your actual API key\n",
        "    location = input(\"Enter city or ZIP code: \")\n",
        "\n",
        "    weather_data = get_weather(api_key, location)\n",
        "\n",
        "    if weather_data:\n",
        "        # Extract and display relevant weather information\n",
        "        temperature = weather_data[\"main\"][\"temp\"]\n",
        "        feels_like = weather_data[\"main\"][\"feels_like\"]\n",
        "        weather_description = weather_data[\"weather\"][0][\"description\"]\n",
        "        print(f\"Location: {location}\")\n",
        "        print(f\"Temperature: {temperature:.2f} degrees Celsius (Feels like: {feels_like:.2f} degrees Celsius)\")\n",
        "        print(f\"Weather: {weather_description}\")\n",
        "    else:\n",
        "        print(\"Error retrieving weather data.\")\n",
        "\n",
        "if __name__ == \"__main__\":\n",
        "    main()\n"
      ],
      "metadata": {
        "colab": {
          "base_uri": "https://localhost:8080/"
        },
        "id": "0BrEVecdyRXp",
        "outputId": "26071fb9-aaed-41f2-ffbf-a01f2f10b8a6"
      },
      "execution_count": null,
      "outputs": [
        {
          "output_type": "stream",
          "name": "stdout",
          "text": [
            "Enter city or ZIP code: Warangal\n",
            "Location: Warangal\n",
            "Temperature: 38.21 degrees Celsius (Feels like: 36.31 degrees Celsius)\n",
            "Weather: broken clouds\n"
          ]
        }
      ]
    }
  ]
}